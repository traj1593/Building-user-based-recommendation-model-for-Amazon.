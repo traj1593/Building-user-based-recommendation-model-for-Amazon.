{
 "cells": [
  {
   "cell_type": "code",
   "execution_count": 1,
   "metadata": {},
   "outputs": [],
   "source": [
    "import pandas as pd"
   ]
  },
  {
   "cell_type": "code",
   "execution_count": 2,
   "metadata": {},
   "outputs": [],
   "source": [
    "df=pd.read_csv('Amazon - Movies and TV Ratings.csv')"
   ]
  },
  {
   "cell_type": "code",
   "execution_count": 3,
   "metadata": {},
   "outputs": [
    {
     "name": "stdout",
     "output_type": "stream",
     "text": [
      "Defaulting to user installation because normal site-packages is not writeable\n",
      "Requirement already satisfied: surprise in ./.local/lib/python3.7/site-packages (0.1)\n",
      "Requirement already satisfied: scikit-surprise in /usr/local/lib/python3.7/site-packages (from surprise) (1.1.0)\n",
      "Requirement already satisfied: joblib>=0.11 in /usr/local/lib/python3.7/site-packages (from scikit-surprise->surprise) (0.14.1)\n",
      "Requirement already satisfied: numpy>=1.11.2 in /usr/local/lib/python3.7/site-packages (from scikit-surprise->surprise) (1.18.2)\n",
      "Requirement already satisfied: scipy>=1.0.0 in /usr/local/lib/python3.7/site-packages (from scikit-surprise->surprise) (1.4.1)\n",
      "Requirement already satisfied: six>=1.10.0 in /usr/local/lib/python3.7/site-packages (from scikit-surprise->surprise) (1.14.0)\n",
      "\u001b[33mWARNING: You are using pip version 20.0.2; however, version 20.2 is available.\n",
      "You should consider upgrading via the '/usr/local/bin/python3.7 -m pip install --upgrade pip' command.\u001b[0m\n"
     ]
    }
   ],
   "source": [
    "!pip install surprise"
   ]
  },
  {
   "cell_type": "code",
   "execution_count": 8,
   "metadata": {},
   "outputs": [
    {
     "data": {
      "text/html": [
       "<div>\n",
       "<style scoped>\n",
       "    .dataframe tbody tr th:only-of-type {\n",
       "        vertical-align: middle;\n",
       "    }\n",
       "\n",
       "    .dataframe tbody tr th {\n",
       "        vertical-align: top;\n",
       "    }\n",
       "\n",
       "    .dataframe thead th {\n",
       "        text-align: right;\n",
       "    }\n",
       "</style>\n",
       "<table border=\"1\" class=\"dataframe\">\n",
       "  <thead>\n",
       "    <tr style=\"text-align: right;\">\n",
       "      <th></th>\n",
       "      <th>user_id</th>\n",
       "      <th>Movie1</th>\n",
       "      <th>Movie2</th>\n",
       "      <th>Movie3</th>\n",
       "      <th>Movie4</th>\n",
       "      <th>Movie5</th>\n",
       "      <th>Movie6</th>\n",
       "      <th>Movie7</th>\n",
       "      <th>Movie8</th>\n",
       "      <th>Movie9</th>\n",
       "      <th>...</th>\n",
       "      <th>Movie197</th>\n",
       "      <th>Movie198</th>\n",
       "      <th>Movie199</th>\n",
       "      <th>Movie200</th>\n",
       "      <th>Movie201</th>\n",
       "      <th>Movie202</th>\n",
       "      <th>Movie203</th>\n",
       "      <th>Movie204</th>\n",
       "      <th>Movie205</th>\n",
       "      <th>Movie206</th>\n",
       "    </tr>\n",
       "  </thead>\n",
       "  <tbody>\n",
       "    <tr>\n",
       "      <th>0</th>\n",
       "      <td>A3R5OBKS7OM2IR</td>\n",
       "      <td>5.0</td>\n",
       "      <td>5.0</td>\n",
       "      <td>NaN</td>\n",
       "      <td>NaN</td>\n",
       "      <td>NaN</td>\n",
       "      <td>NaN</td>\n",
       "      <td>NaN</td>\n",
       "      <td>NaN</td>\n",
       "      <td>NaN</td>\n",
       "      <td>...</td>\n",
       "      <td>NaN</td>\n",
       "      <td>NaN</td>\n",
       "      <td>NaN</td>\n",
       "      <td>NaN</td>\n",
       "      <td>NaN</td>\n",
       "      <td>NaN</td>\n",
       "      <td>NaN</td>\n",
       "      <td>NaN</td>\n",
       "      <td>NaN</td>\n",
       "      <td>NaN</td>\n",
       "    </tr>\n",
       "    <tr>\n",
       "      <th>1</th>\n",
       "      <td>AH3QC2PC1VTGP</td>\n",
       "      <td>NaN</td>\n",
       "      <td>NaN</td>\n",
       "      <td>2.0</td>\n",
       "      <td>NaN</td>\n",
       "      <td>NaN</td>\n",
       "      <td>NaN</td>\n",
       "      <td>NaN</td>\n",
       "      <td>NaN</td>\n",
       "      <td>NaN</td>\n",
       "      <td>...</td>\n",
       "      <td>NaN</td>\n",
       "      <td>NaN</td>\n",
       "      <td>NaN</td>\n",
       "      <td>NaN</td>\n",
       "      <td>NaN</td>\n",
       "      <td>NaN</td>\n",
       "      <td>NaN</td>\n",
       "      <td>NaN</td>\n",
       "      <td>NaN</td>\n",
       "      <td>NaN</td>\n",
       "    </tr>\n",
       "    <tr>\n",
       "      <th>2</th>\n",
       "      <td>A3LKP6WPMP9UKX</td>\n",
       "      <td>NaN</td>\n",
       "      <td>NaN</td>\n",
       "      <td>NaN</td>\n",
       "      <td>5.0</td>\n",
       "      <td>NaN</td>\n",
       "      <td>NaN</td>\n",
       "      <td>NaN</td>\n",
       "      <td>NaN</td>\n",
       "      <td>NaN</td>\n",
       "      <td>...</td>\n",
       "      <td>NaN</td>\n",
       "      <td>NaN</td>\n",
       "      <td>NaN</td>\n",
       "      <td>NaN</td>\n",
       "      <td>NaN</td>\n",
       "      <td>NaN</td>\n",
       "      <td>NaN</td>\n",
       "      <td>NaN</td>\n",
       "      <td>NaN</td>\n",
       "      <td>NaN</td>\n",
       "    </tr>\n",
       "    <tr>\n",
       "      <th>3</th>\n",
       "      <td>AVIY68KEPQ5ZD</td>\n",
       "      <td>NaN</td>\n",
       "      <td>NaN</td>\n",
       "      <td>NaN</td>\n",
       "      <td>5.0</td>\n",
       "      <td>NaN</td>\n",
       "      <td>NaN</td>\n",
       "      <td>NaN</td>\n",
       "      <td>NaN</td>\n",
       "      <td>NaN</td>\n",
       "      <td>...</td>\n",
       "      <td>NaN</td>\n",
       "      <td>NaN</td>\n",
       "      <td>NaN</td>\n",
       "      <td>NaN</td>\n",
       "      <td>NaN</td>\n",
       "      <td>NaN</td>\n",
       "      <td>NaN</td>\n",
       "      <td>NaN</td>\n",
       "      <td>NaN</td>\n",
       "      <td>NaN</td>\n",
       "    </tr>\n",
       "    <tr>\n",
       "      <th>4</th>\n",
       "      <td>A1CV1WROP5KTTW</td>\n",
       "      <td>NaN</td>\n",
       "      <td>NaN</td>\n",
       "      <td>NaN</td>\n",
       "      <td>NaN</td>\n",
       "      <td>5.0</td>\n",
       "      <td>NaN</td>\n",
       "      <td>NaN</td>\n",
       "      <td>NaN</td>\n",
       "      <td>NaN</td>\n",
       "      <td>...</td>\n",
       "      <td>NaN</td>\n",
       "      <td>NaN</td>\n",
       "      <td>NaN</td>\n",
       "      <td>NaN</td>\n",
       "      <td>NaN</td>\n",
       "      <td>NaN</td>\n",
       "      <td>NaN</td>\n",
       "      <td>NaN</td>\n",
       "      <td>NaN</td>\n",
       "      <td>NaN</td>\n",
       "    </tr>\n",
       "  </tbody>\n",
       "</table>\n",
       "<p>5 rows × 207 columns</p>\n",
       "</div>"
      ],
      "text/plain": [
       "          user_id  Movie1  Movie2  Movie3  Movie4  Movie5  Movie6  Movie7  \\\n",
       "0  A3R5OBKS7OM2IR     5.0     5.0     NaN     NaN     NaN     NaN     NaN   \n",
       "1   AH3QC2PC1VTGP     NaN     NaN     2.0     NaN     NaN     NaN     NaN   \n",
       "2  A3LKP6WPMP9UKX     NaN     NaN     NaN     5.0     NaN     NaN     NaN   \n",
       "3   AVIY68KEPQ5ZD     NaN     NaN     NaN     5.0     NaN     NaN     NaN   \n",
       "4  A1CV1WROP5KTTW     NaN     NaN     NaN     NaN     5.0     NaN     NaN   \n",
       "\n",
       "   Movie8  Movie9  ...  Movie197  Movie198  Movie199  Movie200  Movie201  \\\n",
       "0     NaN     NaN  ...       NaN       NaN       NaN       NaN       NaN   \n",
       "1     NaN     NaN  ...       NaN       NaN       NaN       NaN       NaN   \n",
       "2     NaN     NaN  ...       NaN       NaN       NaN       NaN       NaN   \n",
       "3     NaN     NaN  ...       NaN       NaN       NaN       NaN       NaN   \n",
       "4     NaN     NaN  ...       NaN       NaN       NaN       NaN       NaN   \n",
       "\n",
       "   Movie202  Movie203  Movie204  Movie205  Movie206  \n",
       "0       NaN       NaN       NaN       NaN       NaN  \n",
       "1       NaN       NaN       NaN       NaN       NaN  \n",
       "2       NaN       NaN       NaN       NaN       NaN  \n",
       "3       NaN       NaN       NaN       NaN       NaN  \n",
       "4       NaN       NaN       NaN       NaN       NaN  \n",
       "\n",
       "[5 rows x 207 columns]"
      ]
     },
     "execution_count": 8,
     "metadata": {},
     "output_type": "execute_result"
    }
   ],
   "source": [
    "df.head()"
   ]
  },
  {
   "cell_type": "code",
   "execution_count": 9,
   "metadata": {},
   "outputs": [
    {
     "data": {
      "text/html": [
       "<div>\n",
       "<style scoped>\n",
       "    .dataframe tbody tr th:only-of-type {\n",
       "        vertical-align: middle;\n",
       "    }\n",
       "\n",
       "    .dataframe tbody tr th {\n",
       "        vertical-align: top;\n",
       "    }\n",
       "\n",
       "    .dataframe thead th {\n",
       "        text-align: right;\n",
       "    }\n",
       "</style>\n",
       "<table border=\"1\" class=\"dataframe\">\n",
       "  <thead>\n",
       "    <tr style=\"text-align: right;\">\n",
       "      <th></th>\n",
       "      <th>Movie1</th>\n",
       "      <th>Movie2</th>\n",
       "      <th>Movie3</th>\n",
       "      <th>Movie4</th>\n",
       "      <th>Movie5</th>\n",
       "      <th>Movie6</th>\n",
       "      <th>Movie7</th>\n",
       "      <th>Movie8</th>\n",
       "      <th>Movie9</th>\n",
       "      <th>Movie10</th>\n",
       "      <th>...</th>\n",
       "      <th>Movie197</th>\n",
       "      <th>Movie198</th>\n",
       "      <th>Movie199</th>\n",
       "      <th>Movie200</th>\n",
       "      <th>Movie201</th>\n",
       "      <th>Movie202</th>\n",
       "      <th>Movie203</th>\n",
       "      <th>Movie204</th>\n",
       "      <th>Movie205</th>\n",
       "      <th>Movie206</th>\n",
       "    </tr>\n",
       "  </thead>\n",
       "  <tbody>\n",
       "    <tr>\n",
       "      <th>count</th>\n",
       "      <td>1.0</td>\n",
       "      <td>1.0</td>\n",
       "      <td>1.0</td>\n",
       "      <td>2.0</td>\n",
       "      <td>29.000000</td>\n",
       "      <td>1.0</td>\n",
       "      <td>1.0</td>\n",
       "      <td>1.0</td>\n",
       "      <td>1.0</td>\n",
       "      <td>1.0</td>\n",
       "      <td>...</td>\n",
       "      <td>5.000000</td>\n",
       "      <td>2.0</td>\n",
       "      <td>1.0</td>\n",
       "      <td>8.000000</td>\n",
       "      <td>3.000000</td>\n",
       "      <td>6.000000</td>\n",
       "      <td>1.0</td>\n",
       "      <td>8.000000</td>\n",
       "      <td>35.000000</td>\n",
       "      <td>13.000000</td>\n",
       "    </tr>\n",
       "    <tr>\n",
       "      <th>mean</th>\n",
       "      <td>5.0</td>\n",
       "      <td>5.0</td>\n",
       "      <td>2.0</td>\n",
       "      <td>5.0</td>\n",
       "      <td>4.103448</td>\n",
       "      <td>4.0</td>\n",
       "      <td>5.0</td>\n",
       "      <td>5.0</td>\n",
       "      <td>5.0</td>\n",
       "      <td>5.0</td>\n",
       "      <td>...</td>\n",
       "      <td>3.800000</td>\n",
       "      <td>5.0</td>\n",
       "      <td>5.0</td>\n",
       "      <td>4.625000</td>\n",
       "      <td>4.333333</td>\n",
       "      <td>4.333333</td>\n",
       "      <td>3.0</td>\n",
       "      <td>4.375000</td>\n",
       "      <td>4.628571</td>\n",
       "      <td>4.923077</td>\n",
       "    </tr>\n",
       "    <tr>\n",
       "      <th>std</th>\n",
       "      <td>NaN</td>\n",
       "      <td>NaN</td>\n",
       "      <td>NaN</td>\n",
       "      <td>0.0</td>\n",
       "      <td>1.496301</td>\n",
       "      <td>NaN</td>\n",
       "      <td>NaN</td>\n",
       "      <td>NaN</td>\n",
       "      <td>NaN</td>\n",
       "      <td>NaN</td>\n",
       "      <td>...</td>\n",
       "      <td>1.643168</td>\n",
       "      <td>0.0</td>\n",
       "      <td>NaN</td>\n",
       "      <td>0.517549</td>\n",
       "      <td>1.154701</td>\n",
       "      <td>1.632993</td>\n",
       "      <td>NaN</td>\n",
       "      <td>1.407886</td>\n",
       "      <td>0.910259</td>\n",
       "      <td>0.277350</td>\n",
       "    </tr>\n",
       "    <tr>\n",
       "      <th>min</th>\n",
       "      <td>5.0</td>\n",
       "      <td>5.0</td>\n",
       "      <td>2.0</td>\n",
       "      <td>5.0</td>\n",
       "      <td>1.000000</td>\n",
       "      <td>4.0</td>\n",
       "      <td>5.0</td>\n",
       "      <td>5.0</td>\n",
       "      <td>5.0</td>\n",
       "      <td>5.0</td>\n",
       "      <td>...</td>\n",
       "      <td>1.000000</td>\n",
       "      <td>5.0</td>\n",
       "      <td>5.0</td>\n",
       "      <td>4.000000</td>\n",
       "      <td>3.000000</td>\n",
       "      <td>1.000000</td>\n",
       "      <td>3.0</td>\n",
       "      <td>1.000000</td>\n",
       "      <td>1.000000</td>\n",
       "      <td>4.000000</td>\n",
       "    </tr>\n",
       "    <tr>\n",
       "      <th>25%</th>\n",
       "      <td>5.0</td>\n",
       "      <td>5.0</td>\n",
       "      <td>2.0</td>\n",
       "      <td>5.0</td>\n",
       "      <td>4.000000</td>\n",
       "      <td>4.0</td>\n",
       "      <td>5.0</td>\n",
       "      <td>5.0</td>\n",
       "      <td>5.0</td>\n",
       "      <td>5.0</td>\n",
       "      <td>...</td>\n",
       "      <td>4.000000</td>\n",
       "      <td>5.0</td>\n",
       "      <td>5.0</td>\n",
       "      <td>4.000000</td>\n",
       "      <td>4.000000</td>\n",
       "      <td>5.000000</td>\n",
       "      <td>3.0</td>\n",
       "      <td>4.750000</td>\n",
       "      <td>5.000000</td>\n",
       "      <td>5.000000</td>\n",
       "    </tr>\n",
       "    <tr>\n",
       "      <th>50%</th>\n",
       "      <td>5.0</td>\n",
       "      <td>5.0</td>\n",
       "      <td>2.0</td>\n",
       "      <td>5.0</td>\n",
       "      <td>5.000000</td>\n",
       "      <td>4.0</td>\n",
       "      <td>5.0</td>\n",
       "      <td>5.0</td>\n",
       "      <td>5.0</td>\n",
       "      <td>5.0</td>\n",
       "      <td>...</td>\n",
       "      <td>4.000000</td>\n",
       "      <td>5.0</td>\n",
       "      <td>5.0</td>\n",
       "      <td>5.000000</td>\n",
       "      <td>5.000000</td>\n",
       "      <td>5.000000</td>\n",
       "      <td>3.0</td>\n",
       "      <td>5.000000</td>\n",
       "      <td>5.000000</td>\n",
       "      <td>5.000000</td>\n",
       "    </tr>\n",
       "    <tr>\n",
       "      <th>75%</th>\n",
       "      <td>5.0</td>\n",
       "      <td>5.0</td>\n",
       "      <td>2.0</td>\n",
       "      <td>5.0</td>\n",
       "      <td>5.000000</td>\n",
       "      <td>4.0</td>\n",
       "      <td>5.0</td>\n",
       "      <td>5.0</td>\n",
       "      <td>5.0</td>\n",
       "      <td>5.0</td>\n",
       "      <td>...</td>\n",
       "      <td>5.000000</td>\n",
       "      <td>5.0</td>\n",
       "      <td>5.0</td>\n",
       "      <td>5.000000</td>\n",
       "      <td>5.000000</td>\n",
       "      <td>5.000000</td>\n",
       "      <td>3.0</td>\n",
       "      <td>5.000000</td>\n",
       "      <td>5.000000</td>\n",
       "      <td>5.000000</td>\n",
       "    </tr>\n",
       "    <tr>\n",
       "      <th>max</th>\n",
       "      <td>5.0</td>\n",
       "      <td>5.0</td>\n",
       "      <td>2.0</td>\n",
       "      <td>5.0</td>\n",
       "      <td>5.000000</td>\n",
       "      <td>4.0</td>\n",
       "      <td>5.0</td>\n",
       "      <td>5.0</td>\n",
       "      <td>5.0</td>\n",
       "      <td>5.0</td>\n",
       "      <td>...</td>\n",
       "      <td>5.000000</td>\n",
       "      <td>5.0</td>\n",
       "      <td>5.0</td>\n",
       "      <td>5.000000</td>\n",
       "      <td>5.000000</td>\n",
       "      <td>5.000000</td>\n",
       "      <td>3.0</td>\n",
       "      <td>5.000000</td>\n",
       "      <td>5.000000</td>\n",
       "      <td>5.000000</td>\n",
       "    </tr>\n",
       "  </tbody>\n",
       "</table>\n",
       "<p>8 rows × 206 columns</p>\n",
       "</div>"
      ],
      "text/plain": [
       "       Movie1  Movie2  Movie3  Movie4     Movie5  Movie6  Movie7  Movie8  \\\n",
       "count     1.0     1.0     1.0     2.0  29.000000     1.0     1.0     1.0   \n",
       "mean      5.0     5.0     2.0     5.0   4.103448     4.0     5.0     5.0   \n",
       "std       NaN     NaN     NaN     0.0   1.496301     NaN     NaN     NaN   \n",
       "min       5.0     5.0     2.0     5.0   1.000000     4.0     5.0     5.0   \n",
       "25%       5.0     5.0     2.0     5.0   4.000000     4.0     5.0     5.0   \n",
       "50%       5.0     5.0     2.0     5.0   5.000000     4.0     5.0     5.0   \n",
       "75%       5.0     5.0     2.0     5.0   5.000000     4.0     5.0     5.0   \n",
       "max       5.0     5.0     2.0     5.0   5.000000     4.0     5.0     5.0   \n",
       "\n",
       "       Movie9  Movie10  ...  Movie197  Movie198  Movie199  Movie200  Movie201  \\\n",
       "count     1.0      1.0  ...  5.000000       2.0       1.0  8.000000  3.000000   \n",
       "mean      5.0      5.0  ...  3.800000       5.0       5.0  4.625000  4.333333   \n",
       "std       NaN      NaN  ...  1.643168       0.0       NaN  0.517549  1.154701   \n",
       "min       5.0      5.0  ...  1.000000       5.0       5.0  4.000000  3.000000   \n",
       "25%       5.0      5.0  ...  4.000000       5.0       5.0  4.000000  4.000000   \n",
       "50%       5.0      5.0  ...  4.000000       5.0       5.0  5.000000  5.000000   \n",
       "75%       5.0      5.0  ...  5.000000       5.0       5.0  5.000000  5.000000   \n",
       "max       5.0      5.0  ...  5.000000       5.0       5.0  5.000000  5.000000   \n",
       "\n",
       "       Movie202  Movie203  Movie204   Movie205   Movie206  \n",
       "count  6.000000       1.0  8.000000  35.000000  13.000000  \n",
       "mean   4.333333       3.0  4.375000   4.628571   4.923077  \n",
       "std    1.632993       NaN  1.407886   0.910259   0.277350  \n",
       "min    1.000000       3.0  1.000000   1.000000   4.000000  \n",
       "25%    5.000000       3.0  4.750000   5.000000   5.000000  \n",
       "50%    5.000000       3.0  5.000000   5.000000   5.000000  \n",
       "75%    5.000000       3.0  5.000000   5.000000   5.000000  \n",
       "max    5.000000       3.0  5.000000   5.000000   5.000000  \n",
       "\n",
       "[8 rows x 206 columns]"
      ]
     },
     "execution_count": 9,
     "metadata": {},
     "output_type": "execute_result"
    }
   ],
   "source": [
    "df.describe()"
   ]
  },
  {
   "cell_type": "code",
   "execution_count": 11,
   "metadata": {},
   "outputs": [],
   "source": [
    "df_main = df.copy()"
   ]
  },
  {
   "cell_type": "markdown",
   "metadata": {},
   "source": [
    "df.describe().T"
   ]
  },
  {
   "cell_type": "code",
   "execution_count": 15,
   "metadata": {},
   "outputs": [
    {
     "data": {
      "text/html": [
       "<div>\n",
       "<style scoped>\n",
       "    .dataframe tbody tr th:only-of-type {\n",
       "        vertical-align: middle;\n",
       "    }\n",
       "\n",
       "    .dataframe tbody tr th {\n",
       "        vertical-align: top;\n",
       "    }\n",
       "\n",
       "    .dataframe thead th {\n",
       "        text-align: right;\n",
       "    }\n",
       "</style>\n",
       "<table border=\"1\" class=\"dataframe\">\n",
       "  <thead>\n",
       "    <tr style=\"text-align: right;\">\n",
       "      <th></th>\n",
       "      <th>count</th>\n",
       "    </tr>\n",
       "  </thead>\n",
       "  <tbody>\n",
       "    <tr>\n",
       "      <th>Movie127</th>\n",
       "      <td>2313.0</td>\n",
       "    </tr>\n",
       "    <tr>\n",
       "      <th>Movie140</th>\n",
       "      <td>578.0</td>\n",
       "    </tr>\n",
       "    <tr>\n",
       "      <th>Movie16</th>\n",
       "      <td>320.0</td>\n",
       "    </tr>\n",
       "    <tr>\n",
       "      <th>Movie103</th>\n",
       "      <td>272.0</td>\n",
       "    </tr>\n",
       "    <tr>\n",
       "      <th>Movie29</th>\n",
       "      <td>243.0</td>\n",
       "    </tr>\n",
       "    <tr>\n",
       "      <th>Movie91</th>\n",
       "      <td>128.0</td>\n",
       "    </tr>\n",
       "    <tr>\n",
       "      <th>Movie92</th>\n",
       "      <td>101.0</td>\n",
       "    </tr>\n",
       "    <tr>\n",
       "      <th>Movie89</th>\n",
       "      <td>83.0</td>\n",
       "    </tr>\n",
       "    <tr>\n",
       "      <th>Movie158</th>\n",
       "      <td>66.0</td>\n",
       "    </tr>\n",
       "    <tr>\n",
       "      <th>Movie108</th>\n",
       "      <td>54.0</td>\n",
       "    </tr>\n",
       "  </tbody>\n",
       "</table>\n",
       "</div>"
      ],
      "text/plain": [
       "           count\n",
       "Movie127  2313.0\n",
       "Movie140   578.0\n",
       "Movie16    320.0\n",
       "Movie103   272.0\n",
       "Movie29    243.0\n",
       "Movie91    128.0\n",
       "Movie92    101.0\n",
       "Movie89     83.0\n",
       "Movie158    66.0\n",
       "Movie108    54.0"
      ]
     },
     "execution_count": 15,
     "metadata": {},
     "output_type": "execute_result"
    }
   ],
   "source": [
    "df.describe().T[\"count\"].sort_values(ascending = False)[:10].to_frame()"
   ]
  },
  {
   "cell_type": "code",
   "execution_count": 17,
   "metadata": {},
   "outputs": [
    {
     "data": {
      "text/html": [
       "<div>\n",
       "<style scoped>\n",
       "    .dataframe tbody tr th:only-of-type {\n",
       "        vertical-align: middle;\n",
       "    }\n",
       "\n",
       "    .dataframe tbody tr th {\n",
       "        vertical-align: top;\n",
       "    }\n",
       "\n",
       "    .dataframe thead th {\n",
       "        text-align: right;\n",
       "    }\n",
       "</style>\n",
       "<table border=\"1\" class=\"dataframe\">\n",
       "  <thead>\n",
       "    <tr style=\"text-align: right;\">\n",
       "      <th></th>\n",
       "      <th>0</th>\n",
       "    </tr>\n",
       "  </thead>\n",
       "  <tbody>\n",
       "    <tr>\n",
       "      <th>Movie127</th>\n",
       "      <td>9511.0</td>\n",
       "    </tr>\n",
       "    <tr>\n",
       "      <th>Movie140</th>\n",
       "      <td>2794.0</td>\n",
       "    </tr>\n",
       "    <tr>\n",
       "      <th>Movie16</th>\n",
       "      <td>1446.0</td>\n",
       "    </tr>\n",
       "    <tr>\n",
       "      <th>Movie103</th>\n",
       "      <td>1241.0</td>\n",
       "    </tr>\n",
       "    <tr>\n",
       "      <th>Movie29</th>\n",
       "      <td>1168.0</td>\n",
       "    </tr>\n",
       "    <tr>\n",
       "      <th>Movie91</th>\n",
       "      <td>586.0</td>\n",
       "    </tr>\n",
       "    <tr>\n",
       "      <th>Movie92</th>\n",
       "      <td>482.0</td>\n",
       "    </tr>\n",
       "    <tr>\n",
       "      <th>Movie89</th>\n",
       "      <td>380.0</td>\n",
       "    </tr>\n",
       "    <tr>\n",
       "      <th>Movie158</th>\n",
       "      <td>318.0</td>\n",
       "    </tr>\n",
       "    <tr>\n",
       "      <th>Movie108</th>\n",
       "      <td>252.0</td>\n",
       "    </tr>\n",
       "  </tbody>\n",
       "</table>\n",
       "</div>"
      ],
      "text/plain": [
       "               0\n",
       "Movie127  9511.0\n",
       "Movie140  2794.0\n",
       "Movie16   1446.0\n",
       "Movie103  1241.0\n",
       "Movie29   1168.0\n",
       "Movie91    586.0\n",
       "Movie92    482.0\n",
       "Movie89    380.0\n",
       "Movie158   318.0\n",
       "Movie108   252.0"
      ]
     },
     "execution_count": 17,
     "metadata": {},
     "output_type": "execute_result"
    }
   ],
   "source": [
    "df.drop('user_id',axis=1).sum().sort_values(ascending=False)[:10].to_frame()"
   ]
  },
  {
   "cell_type": "code",
   "execution_count": 27,
   "metadata": {},
   "outputs": [
    {
     "data": {
      "text/plain": [
       "Movie1      5.000000\n",
       "Movie10     5.000000\n",
       "Movie100    4.000000\n",
       "Movie101    5.000000\n",
       "Movie102    4.000000\n",
       "              ...   \n",
       "Movie95     3.333333\n",
       "Movie96     5.000000\n",
       "Movie97     4.800000\n",
       "Movie98     5.000000\n",
       "Movie99     4.000000\n",
       "Length: 206, dtype: float64"
      ]
     },
     "execution_count": 27,
     "metadata": {},
     "output_type": "execute_result"
    }
   ],
   "source": [
    "df.drop('user_id',axis=1).sum().sort_values(ascending=False)/df.describe().T[\"count\"].sort_values(ascending = False)"
   ]
  },
  {
   "cell_type": "code",
   "execution_count": 32,
   "metadata": {},
   "outputs": [],
   "source": [
    "avg = df.drop('user_id',axis=1).sum().sort_values(ascending=False)/df.describe().T[\"count\"].sort_values(ascending = False)"
   ]
  },
  {
   "cell_type": "code",
   "execution_count": 40,
   "metadata": {},
   "outputs": [
    {
     "data": {
      "text/html": [
       "<div>\n",
       "<style scoped>\n",
       "    .dataframe tbody tr th:only-of-type {\n",
       "        vertical-align: middle;\n",
       "    }\n",
       "\n",
       "    .dataframe tbody tr th {\n",
       "        vertical-align: top;\n",
       "    }\n",
       "\n",
       "    .dataframe thead th {\n",
       "        text-align: right;\n",
       "    }\n",
       "</style>\n",
       "<table border=\"1\" class=\"dataframe\">\n",
       "  <thead>\n",
       "    <tr style=\"text-align: right;\">\n",
       "      <th></th>\n",
       "      <th>0</th>\n",
       "    </tr>\n",
       "  </thead>\n",
       "  <tbody>\n",
       "    <tr>\n",
       "      <th>Movie191</th>\n",
       "      <td>5.0</td>\n",
       "    </tr>\n",
       "    <tr>\n",
       "      <th>Movie189</th>\n",
       "      <td>5.0</td>\n",
       "    </tr>\n",
       "    <tr>\n",
       "      <th>Movie167</th>\n",
       "      <td>5.0</td>\n",
       "    </tr>\n",
       "    <tr>\n",
       "      <th>Movie168</th>\n",
       "      <td>5.0</td>\n",
       "    </tr>\n",
       "    <tr>\n",
       "      <th>Movie169</th>\n",
       "      <td>5.0</td>\n",
       "    </tr>\n",
       "  </tbody>\n",
       "</table>\n",
       "</div>"
      ],
      "text/plain": [
       "            0\n",
       "Movie191  5.0\n",
       "Movie189  5.0\n",
       "Movie167  5.0\n",
       "Movie168  5.0\n",
       "Movie169  5.0"
      ]
     },
     "execution_count": 40,
     "metadata": {},
     "output_type": "execute_result"
    }
   ],
   "source": [
    "avg.sort_values(ascending=False)[:5].to_frame()"
   ]
  },
  {
   "cell_type": "code",
   "execution_count": 44,
   "metadata": {},
   "outputs": [
    {
     "data": {
      "text/plain": [
       "Movie67     1.0\n",
       "Movie154    1.0\n",
       "Movie58     1.0\n",
       "Movie60     1.0\n",
       "Movie45     1.0\n",
       "dtype: float64"
      ]
     },
     "execution_count": 44,
     "metadata": {},
     "output_type": "execute_result"
    }
   ],
   "source": [
    "df.drop('user_id',axis=1).sum().sort_values(ascending= True)[:5]"
   ]
  },
  {
   "cell_type": "code",
   "execution_count": 46,
   "metadata": {},
   "outputs": [
    {
     "data": {
      "text/plain": [
       "Movie1      1.0\n",
       "Movie71     1.0\n",
       "Movie145    1.0\n",
       "Movie69     1.0\n",
       "Movie68     1.0\n",
       "Name: count, dtype: float64"
      ]
     },
     "execution_count": 46,
     "metadata": {},
     "output_type": "execute_result"
    }
   ],
   "source": [
    "df.describe().T[\"count\"].sort_values(ascending = True)[:5]"
   ]
  },
  {
   "cell_type": "code",
   "execution_count": 4,
   "metadata": {},
   "outputs": [
    {
     "name": "stdout",
     "output_type": "stream",
     "text": [
      "Defaulting to user installation because normal site-packages is not writeable\n",
      "Requirement already satisfied: scikit-surprise in /usr/local/lib/python3.7/site-packages (1.1.0)\n",
      "Requirement already satisfied: joblib>=0.11 in /usr/local/lib/python3.7/site-packages (from scikit-surprise) (0.14.1)\n",
      "Requirement already satisfied: numpy>=1.11.2 in /usr/local/lib/python3.7/site-packages (from scikit-surprise) (1.18.2)\n",
      "Requirement already satisfied: scipy>=1.0.0 in /usr/local/lib/python3.7/site-packages (from scikit-surprise) (1.4.1)\n",
      "Requirement already satisfied: six>=1.10.0 in /usr/local/lib/python3.7/site-packages (from scikit-surprise) (1.14.0)\n",
      "\u001b[33mWARNING: You are using pip version 20.0.2; however, version 20.2 is available.\n",
      "You should consider upgrading via the '/usr/local/bin/python3.7 -m pip install --upgrade pip' command.\u001b[0m\n"
     ]
    }
   ],
   "source": [
    "!pip install scikit-surprise"
   ]
  },
  {
   "cell_type": "markdown",
   "metadata": {},
   "source": [
    "from surprise import Reader"
   ]
  },
  {
   "cell_type": "code",
   "execution_count": 6,
   "metadata": {},
   "outputs": [],
   "source": [
    "from surprise import Reader\n",
    "from surprise import accuracy\n",
    "from surprise.model_selection import train_test_split"
   ]
  },
  {
   "cell_type": "code",
   "execution_count": 10,
   "metadata": {},
   "outputs": [
    {
     "data": {
      "text/plain": [
       "Index(['user_id', 'Movie1', 'Movie2', 'Movie3', 'Movie4', 'Movie5', 'Movie6',\n",
       "       'Movie7', 'Movie8', 'Movie9',\n",
       "       ...\n",
       "       'Movie197', 'Movie198', 'Movie199', 'Movie200', 'Movie201', 'Movie202',\n",
       "       'Movie203', 'Movie204', 'Movie205', 'Movie206'],\n",
       "      dtype='object', length=207)"
      ]
     },
     "execution_count": 10,
     "metadata": {},
     "output_type": "execute_result"
    }
   ],
   "source": [
    "df.columns"
   ]
  },
  {
   "cell_type": "code",
   "execution_count": 12,
   "metadata": {},
   "outputs": [
    {
     "data": {
      "text/html": [
       "<div>\n",
       "<style scoped>\n",
       "    .dataframe tbody tr th:only-of-type {\n",
       "        vertical-align: middle;\n",
       "    }\n",
       "\n",
       "    .dataframe tbody tr th {\n",
       "        vertical-align: top;\n",
       "    }\n",
       "\n",
       "    .dataframe thead th {\n",
       "        text-align: right;\n",
       "    }\n",
       "</style>\n",
       "<table border=\"1\" class=\"dataframe\">\n",
       "  <thead>\n",
       "    <tr style=\"text-align: right;\">\n",
       "      <th></th>\n",
       "      <th>user_id</th>\n",
       "      <th>movie_name</th>\n",
       "      <th>rating</th>\n",
       "    </tr>\n",
       "  </thead>\n",
       "  <tbody>\n",
       "    <tr>\n",
       "      <th>0</th>\n",
       "      <td>A3R5OBKS7OM2IR</td>\n",
       "      <td>Movie1</td>\n",
       "      <td>5.0</td>\n",
       "    </tr>\n",
       "    <tr>\n",
       "      <th>1</th>\n",
       "      <td>AH3QC2PC1VTGP</td>\n",
       "      <td>Movie1</td>\n",
       "      <td>NaN</td>\n",
       "    </tr>\n",
       "    <tr>\n",
       "      <th>2</th>\n",
       "      <td>A3LKP6WPMP9UKX</td>\n",
       "      <td>Movie1</td>\n",
       "      <td>NaN</td>\n",
       "    </tr>\n",
       "    <tr>\n",
       "      <th>3</th>\n",
       "      <td>AVIY68KEPQ5ZD</td>\n",
       "      <td>Movie1</td>\n",
       "      <td>NaN</td>\n",
       "    </tr>\n",
       "    <tr>\n",
       "      <th>4</th>\n",
       "      <td>A1CV1WROP5KTTW</td>\n",
       "      <td>Movie1</td>\n",
       "      <td>NaN</td>\n",
       "    </tr>\n",
       "    <tr>\n",
       "      <th>...</th>\n",
       "      <td>...</td>\n",
       "      <td>...</td>\n",
       "      <td>...</td>\n",
       "    </tr>\n",
       "    <tr>\n",
       "      <th>998683</th>\n",
       "      <td>A1IMQ9WMFYKWH5</td>\n",
       "      <td>Movie206</td>\n",
       "      <td>5.0</td>\n",
       "    </tr>\n",
       "    <tr>\n",
       "      <th>998684</th>\n",
       "      <td>A1KLIKPUF5E88I</td>\n",
       "      <td>Movie206</td>\n",
       "      <td>5.0</td>\n",
       "    </tr>\n",
       "    <tr>\n",
       "      <th>998685</th>\n",
       "      <td>A5HG6WFZLO10D</td>\n",
       "      <td>Movie206</td>\n",
       "      <td>5.0</td>\n",
       "    </tr>\n",
       "    <tr>\n",
       "      <th>998686</th>\n",
       "      <td>A3UU690TWXCG1X</td>\n",
       "      <td>Movie206</td>\n",
       "      <td>5.0</td>\n",
       "    </tr>\n",
       "    <tr>\n",
       "      <th>998687</th>\n",
       "      <td>AI4J762YI6S06</td>\n",
       "      <td>Movie206</td>\n",
       "      <td>5.0</td>\n",
       "    </tr>\n",
       "  </tbody>\n",
       "</table>\n",
       "<p>998688 rows × 3 columns</p>\n",
       "</div>"
      ],
      "text/plain": [
       "               user_id movie_name  rating\n",
       "0       A3R5OBKS7OM2IR     Movie1     5.0\n",
       "1        AH3QC2PC1VTGP     Movie1     NaN\n",
       "2       A3LKP6WPMP9UKX     Movie1     NaN\n",
       "3        AVIY68KEPQ5ZD     Movie1     NaN\n",
       "4       A1CV1WROP5KTTW     Movie1     NaN\n",
       "...                ...        ...     ...\n",
       "998683  A1IMQ9WMFYKWH5   Movie206     5.0\n",
       "998684  A1KLIKPUF5E88I   Movie206     5.0\n",
       "998685   A5HG6WFZLO10D   Movie206     5.0\n",
       "998686  A3UU690TWXCG1X   Movie206     5.0\n",
       "998687   AI4J762YI6S06   Movie206     5.0\n",
       "\n",
       "[998688 rows x 3 columns]"
      ]
     },
     "execution_count": 12,
     "metadata": {},
     "output_type": "execute_result"
    }
   ],
   "source": [
    "melt_df = df.melt(id_vars = df.columns[0], value_vars=df.columns[1:], var_name=\"movie_name\", value_name=\"rating\")\n",
    "melt_df"
   ]
  },
  {
   "cell_type": "markdown",
   "metadata": {},
   "source": [
    "\n"
   ]
  },
  {
   "cell_type": "code",
   "execution_count": 13,
   "metadata": {},
   "outputs": [],
   "source": [
    "from surprise import Dataset"
   ]
  },
  {
   "cell_type": "code",
   "execution_count": 25,
   "metadata": {},
   "outputs": [],
   "source": [
    "reader = Reader(rating_scale=(-1,10))\n",
    "data = Dataset.load_from_df(melt_df.fillna(0), reader=reader)"
   ]
  },
  {
   "cell_type": "code",
   "execution_count": 26,
   "metadata": {},
   "outputs": [],
   "source": [
    "trainset, testset = train_test_split(data,test_size=0.25)"
   ]
  },
  {
   "cell_type": "code",
   "execution_count": 27,
   "metadata": {},
   "outputs": [],
   "source": [
    "from surprise import SVD"
   ]
  },
  {
   "cell_type": "code",
   "execution_count": 29,
   "metadata": {},
   "outputs": [],
   "source": [
    "algo = SVD()"
   ]
  },
  {
   "cell_type": "code",
   "execution_count": 30,
   "metadata": {},
   "outputs": [
    {
     "data": {
      "text/plain": [
       "<surprise.prediction_algorithms.matrix_factorization.SVD at 0x7fa6375dc190>"
      ]
     },
     "execution_count": 30,
     "metadata": {},
     "output_type": "execute_result"
    }
   ],
   "source": [
    "algo.fit(trainset)"
   ]
  },
  {
   "cell_type": "code",
   "execution_count": 31,
   "metadata": {},
   "outputs": [],
   "source": [
    "predictions = algo.test(testset)"
   ]
  },
  {
   "cell_type": "code",
   "execution_count": 32,
   "metadata": {},
   "outputs": [
    {
     "name": "stdout",
     "output_type": "stream",
     "text": [
      "RMSE: 0.2824\n"
     ]
    },
    {
     "data": {
      "text/plain": [
       "0.2824494150824329"
      ]
     },
     "execution_count": 32,
     "metadata": {},
     "output_type": "execute_result"
    }
   ],
   "source": [
    "accuracy.rmse(predictions)"
   ]
  },
  {
   "cell_type": "code",
   "execution_count": 35,
   "metadata": {},
   "outputs": [
    {
     "name": "stdout",
     "output_type": "stream",
     "text": [
      "user: A3R5OBKS7OM2IR item: movie1     r_ui = 0.00   est = 0.05   {'was_impossible': False}\n"
     ]
    },
    {
     "data": {
      "text/plain": [
       "Prediction(uid='A3R5OBKS7OM2IR', iid='movie1', r_ui=0.0, est=0.052555913741574534, details={'was_impossible': False})"
      ]
     },
     "execution_count": 35,
     "metadata": {},
     "output_type": "execute_result"
    }
   ],
   "source": [
    "user_id = 'A3R5OBKS7OM2IR'\n",
    "muvi_id = 'movie1'\n",
    "r_ui = 5.0\n",
    "algo.predict(user_id,muvi_id,r_ui-r_ui, verbose=True)"
   ]
  },
  {
   "cell_type": "raw",
   "metadata": {},
   "source": [
    "from surprise.model_selection import cross_validate"
   ]
  },
  {
   "cell_type": "code",
   "execution_count": 36,
   "metadata": {},
   "outputs": [],
   "source": [
    "from surprise.model_selection import cross_validate"
   ]
  },
  {
   "cell_type": "code",
   "execution_count": 38,
   "metadata": {},
   "outputs": [
    {
     "name": "stdout",
     "output_type": "stream",
     "text": [
      "Evaluating RMSE, MAE of algorithm SVD on 3 split(s).\n",
      "\n",
      "                  Fold 1  Fold 2  Fold 3  Mean    Std     \n",
      "RMSE (testset)    0.2803  0.2830  0.2816  0.2816  0.0011  \n",
      "MAE (testset)     0.0425  0.0429  0.0423  0.0426  0.0002  \n",
      "Fit time          35.78   36.19   36.23   36.07   0.20    \n",
      "Test time         3.18    3.51    3.52    3.40    0.16    \n"
     ]
    },
    {
     "data": {
      "text/plain": [
       "{'test_rmse': array([0.28031207, 0.28300863, 0.28155437]),\n",
       " 'test_mae': array([0.04254894, 0.04286814, 0.04227857]),\n",
       " 'fit_time': (35.78441143035889, 36.19245767593384, 36.2305850982666),\n",
       " 'test_time': (3.1768958568573, 3.5109288692474365, 3.5222249031066895)}"
      ]
     },
     "execution_count": 38,
     "metadata": {},
     "output_type": "execute_result"
    }
   ],
   "source": [
    "cross_validate(algo, data, measures=['RMSE','MAE'], cv=3, verbose=True)"
   ]
  },
  {
   "cell_type": "code",
   "execution_count": 39,
   "metadata": {},
   "outputs": [],
   "source": [
    "def repeat(algo_type, frame, min_, max_):\n",
    "    reader = Reader(rating_scale=(min_,max_))\n",
    "    data = Dataset.load_from_df(melt_df.fillna(0), reader=reader)\n",
    "    algo = algo_type\n",
    "    print(cross_validate(algo, data, measures=['RMSE','MAE'], cv=3, verbose=True))\n",
    "    print(\"#\"*10)\n",
    "    user_id = 'A3R5OBKS7OM2IR'\n",
    "    muvi_id = 'movie1'\n",
    "    r_ui = 5.0\n",
    "    print(algo.predict(user_id,muvi_id,r_ui-r_ui, verbose=True))\n",
    "    print(\"#\"*10)\n",
    "    print()"
   ]
  },
  {
   "cell_type": "code",
   "execution_count": 40,
   "metadata": {},
   "outputs": [],
   "source": [
    "df = df.iloc[:1212, :50]\n",
    "melt_df = df.melt(id_vars = df.columns[0], value_vars=df.columns[1:], var_name=\"movie_name\", value_name=\"rating\")"
   ]
  },
  {
   "cell_type": "code",
   "execution_count": 42,
   "metadata": {},
   "outputs": [
    {
     "name": "stdout",
     "output_type": "stream",
     "text": [
      "Evaluating RMSE, MAE of algorithm SVD on 3 split(s).\n",
      "\n",
      "                  Fold 1  Fold 2  Fold 3  Mean    Std     \n",
      "RMSE (testset)    0.4607  0.4532  0.4522  0.4553  0.0038  \n",
      "MAE (testset)     0.1041  0.1041  0.1035  0.1039  0.0003  \n",
      "Fit time          2.10    2.11    2.11    2.11    0.01    \n",
      "Test time         0.47    0.14    0.13    0.25    0.16    \n",
      "{'test_rmse': array([0.4606599 , 0.45320876, 0.45217488]), 'test_mae': array([0.10409236, 0.10408537, 0.10345269]), 'fit_time': (2.1012375354766846, 2.1104233264923096, 2.113583564758301), 'test_time': (0.4717257022857666, 0.13503456115722656, 0.13019752502441406)}\n",
      "##########\n",
      "user: A3R5OBKS7OM2IR item: movie1     r_ui = 0.00   est = 0.31   {'was_impossible': False}\n",
      "user: A3R5OBKS7OM2IR item: movie1     r_ui = 0.00   est = 0.31   {'was_impossible': False}\n",
      "##########\n",
      "\n",
      "Evaluating RMSE, MAE of algorithm SVD on 3 split(s).\n",
      "\n",
      "                  Fold 1  Fold 2  Fold 3  Mean    Std     \n",
      "RMSE (testset)    0.4562  0.4579  0.4457  0.4533  0.0054  \n",
      "MAE (testset)     0.1026  0.1048  0.1028  0.1034  0.0010  \n",
      "Fit time          2.11    2.11    2.11    2.11    0.00    \n",
      "Test time         0.13    0.13    0.47    0.25    0.16    \n",
      "{'test_rmse': array([0.45617795, 0.45793918, 0.44571768]), 'test_mae': array([0.10255413, 0.1048434 , 0.10275159]), 'fit_time': (2.1095283031463623, 2.10884690284729, 2.1066722869873047), 'test_time': (0.13074374198913574, 0.13326382637023926, 0.4733421802520752)}\n",
      "##########\n",
      "user: A3R5OBKS7OM2IR item: movie1     r_ui = 0.00   est = 0.04   {'was_impossible': False}\n",
      "user: A3R5OBKS7OM2IR item: movie1     r_ui = 0.00   est = 0.04   {'was_impossible': False}\n",
      "##########\n",
      "\n",
      "Evaluating RMSE, MAE of algorithm SVD on 3 split(s).\n",
      "\n",
      "                  Fold 1  Fold 2  Fold 3  Mean    Std     \n",
      "RMSE (testset)    0.4495  0.4614  0.4465  0.4524  0.0064  \n",
      "MAE (testset)     0.1059  0.1034  0.1017  0.1037  0.0017  \n",
      "Fit time          2.08    2.11    2.11    2.10    0.01    \n",
      "Test time         0.14    0.13    0.13    0.13    0.00    \n",
      "{'test_rmse': array([0.44950549, 0.4613559 , 0.44646889]), 'test_mae': array([0.10589061, 0.10340292, 0.10172625]), 'fit_time': (2.0841219425201416, 2.110996961593628, 2.1050052642822266), 'test_time': (0.13777875900268555, 0.13422298431396484, 0.13225197792053223)}\n",
      "##########\n",
      "user: A3R5OBKS7OM2IR item: movie1     r_ui = 0.00   est = -0.02   {'was_impossible': False}\n",
      "user: A3R5OBKS7OM2IR item: movie1     r_ui = 0.00   est = -0.02   {'was_impossible': False}\n",
      "##########\n",
      "\n"
     ]
    }
   ],
   "source": [
    "repeat(SVD(), melt_df.fillna(0), -1, 10)\n",
    "repeat(SVD(), melt_df.fillna(melt_df.mean()), -1, 10)\n",
    "repeat(SVD(), melt_df.fillna(melt_df.median()), -1, 10)"
   ]
  },
  {
   "cell_type": "code",
   "execution_count": 43,
   "metadata": {},
   "outputs": [],
   "source": [
    "from surprise.model_selection import GridSearchCV"
   ]
  },
  {
   "cell_type": "code",
   "execution_count": 48,
   "metadata": {},
   "outputs": [],
   "source": [
    "param_grid = {'n_epochs': [20,30],\n",
    "             'lr_all': [0.005, 0.01],\n",
    "             'n_factors': [50,100]}"
   ]
  },
  {
   "cell_type": "code",
   "execution_count": 49,
   "metadata": {},
   "outputs": [],
   "source": [
    "gs = GridSearchCV(SVD, param_grid, measures=['rmse', 'mae'], cv=3)\n",
    "gs.fit(data)"
   ]
  },
  {
   "cell_type": "code",
   "execution_count": 50,
   "metadata": {},
   "outputs": [
    {
     "data": {
      "text/plain": [
       "{'rmse': 0.27729394728874185, 'mae': 0.04040749833093973}"
      ]
     },
     "execution_count": 50,
     "metadata": {},
     "output_type": "execute_result"
    }
   ],
   "source": [
    "gs.best_score"
   ]
  },
  {
   "cell_type": "code",
   "execution_count": null,
   "metadata": {},
   "outputs": [],
   "source": []
  }
 ],
 "metadata": {
  "kernelspec": {
   "display_name": "Python 3",
   "language": "python",
   "name": "python3"
  },
  "language_info": {
   "codemirror_mode": {
    "name": "ipython",
    "version": 3
   },
   "file_extension": ".py",
   "mimetype": "text/x-python",
   "name": "python",
   "nbconvert_exporter": "python",
   "pygments_lexer": "ipython3",
   "version": "3.7.6"
  }
 },
 "nbformat": 4,
 "nbformat_minor": 4
}
